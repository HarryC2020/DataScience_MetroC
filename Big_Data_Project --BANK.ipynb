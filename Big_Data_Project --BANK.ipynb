{
 "cells": [
  {
   "cell_type": "code",
   "execution_count": 1,
   "metadata": {},
   "outputs": [],
   "source": [
    "import os\n",
    "import sys\n",
    " \n",
    "os.environ[\"SPARK_HOME\"] = \"/usr/hdp/current/spark2-client\"\n",
    "os.environ[\"PYLIB\"] = os.environ[\"SPARK_HOME\"] + \"/python/lib\"\n",
    "# In below two lines, use /usr/bin/python2.7 if you want to use Python 2\n",
    "os.environ[\"PYSPARK_PYTHON\"] = \"/usr/local/anaconda/bin/python\" \n",
    "os.environ[\"PYSPARK_DRIVER_PYTHON\"] = \"/usr/local/anaconda/bin/python\"\n",
    "sys.path.insert(0, os.environ[\"PYLIB\"] +\"/py4j-0.10.4-src.zip\")\n",
    "sys.path.insert(0, os.environ[\"PYLIB\"] +\"/pyspark.zip\")"
   ]
  },
  {
   "cell_type": "code",
   "execution_count": 2,
   "metadata": {},
   "outputs": [],
   "source": [
    "from pyspark.sql import SparkSession\n",
    "spark = SparkSession.builder.getOrCreate()"
   ]
  },
  {
   "cell_type": "code",
   "execution_count": 3,
   "metadata": {},
   "outputs": [
    {
     "data": {
      "text/plain": [
       "'2.1.1'"
      ]
     },
     "execution_count": 3,
     "metadata": {},
     "output_type": "execute_result"
    }
   ],
   "source": [
    "import pyspark\n",
    "pyspark.__version__"
   ]
  },
  {
   "cell_type": "code",
   "execution_count": 4,
   "metadata": {},
   "outputs": [],
   "source": [
    "import pandas as pd\n",
    "pd.set_option(\"display.max.rows\", None)\n",
    "pd.set_option(\"display.max.columns\", None)"
   ]
  },
  {
   "cell_type": "markdown",
   "metadata": {},
   "source": [
    "### Pre-processing\n",
    "#### Read CSV file into PySpark dataset:df"
   ]
  },
  {
   "cell_type": "code",
   "execution_count": 5,
   "metadata": {},
   "outputs": [
    {
     "name": "stdout",
     "output_type": "stream",
     "text": [
      "+---+---------+-------+-----------+-------+-------+----+---------+-----+-----------+--------+--------+-----+--------+-----------+------------+--------------+-------------+---------+-----------+---+\n",
      "|age|      job|marital|  education|default|housing|loan|  contact|month|day_of_week|duration|campaign|pdays|previous|   poutcome|emp.var.rate|cons.price.idx|cons.conf.idx|euribor3m|nr.employed|  y|\n",
      "+---+---------+-------+-----------+-------+-------+----+---------+-----+-----------+--------+--------+-----+--------+-----------+------------+--------------+-------------+---------+-----------+---+\n",
      "| 56|housemaid|married|   basic.4y|     no|     no|  no|telephone|  may|        mon|     261|       1|  999|       0|nonexistent|         1.1|        93.994|        -36.4|    4.857|     5191.0| no|\n",
      "| 57| services|married|high.school|unknown|     no|  no|telephone|  may|        mon|     149|       1|  999|       0|nonexistent|         1.1|        93.994|        -36.4|    4.857|     5191.0| no|\n",
      "+---+---------+-------+-----------+-------+-------+----+---------+-----+-----------+--------+--------+-----+--------+-----------+------------+--------------+-------------+---------+-----------+---+\n",
      "only showing top 2 rows\n",
      "\n"
     ]
    }
   ],
   "source": [
    "df = spark.read.csv('data/bank-additional-full.csv',sep=';',header=True,inferSchema=True)\n",
    "df.show(2)"
   ]
  },
  {
   "cell_type": "code",
   "execution_count": 6,
   "metadata": {},
   "outputs": [],
   "source": [
    "# Rename column name from \"xxx.xxx.xxx\" to \"xxx_xxx_xxx\" format for readable by Spark\n",
    "df = df.withColumnRenamed(\"emp.var.rate\",\"emp_var_rate\")\\\n",
    "    .withColumnRenamed(\"cons.price.idx\",\"cons_price_idx\")\\\n",
    "    .withColumnRenamed(\"cons.conf.idx\",\"cons_conf_idx\")\\\n",
    "    .withColumnRenamed(\"nr.employed\",\"nr_employed\")"
   ]
  },
  {
   "cell_type": "code",
   "execution_count": 7,
   "metadata": {},
   "outputs": [
    {
     "name": "stdout",
     "output_type": "stream",
     "text": [
      "['age', 'job', 'marital', 'education', 'default', 'housing', 'loan', 'contact', 'month', 'day_of_week', 'duration', 'campaign', 'pdays', 'previous', 'poutcome', 'emp_var_rate', 'cons_price_idx', 'cons_conf_idx', 'euribor3m', 'nr_employed', 'y']\n"
     ]
    }
   ],
   "source": [
    "cols = df.columns\n",
    "print(cols)"
   ]
  },
  {
   "cell_type": "code",
   "execution_count": 8,
   "metadata": {},
   "outputs": [
    {
     "name": "stdout",
     "output_type": "stream",
     "text": [
      "root\n",
      " |-- age: integer (nullable = true)\n",
      " |-- job: string (nullable = true)\n",
      " |-- marital: string (nullable = true)\n",
      " |-- education: string (nullable = true)\n",
      " |-- default: string (nullable = true)\n",
      " |-- housing: string (nullable = true)\n",
      " |-- loan: string (nullable = true)\n",
      " |-- contact: string (nullable = true)\n",
      " |-- month: string (nullable = true)\n",
      " |-- day_of_week: string (nullable = true)\n",
      " |-- duration: integer (nullable = true)\n",
      " |-- campaign: integer (nullable = true)\n",
      " |-- pdays: integer (nullable = true)\n",
      " |-- previous: integer (nullable = true)\n",
      " |-- poutcome: string (nullable = true)\n",
      " |-- emp_var_rate: double (nullable = true)\n",
      " |-- cons_price_idx: double (nullable = true)\n",
      " |-- cons_conf_idx: double (nullable = true)\n",
      " |-- euribor3m: double (nullable = true)\n",
      " |-- nr_employed: double (nullable = true)\n",
      " |-- y: string (nullable = true)\n",
      "\n"
     ]
    }
   ],
   "source": [
    "df.printSchema()"
   ]
  },
  {
   "cell_type": "code",
   "execution_count": 9,
   "metadata": {},
   "outputs": [
    {
     "name": "stdout",
     "output_type": "stream",
     "text": [
      "+-------+------------------+-------+--------+---------+-------+-------+-----+---------+-----+-----------+------------------+-----------------+-----------------+-------------------+--------+-------------------+------------------+------------------+------------------+-----------------+-----+\n",
      "|summary|               age|    job| marital|education|default|housing| loan|  contact|month|day_of_week|          duration|         campaign|            pdays|           previous|poutcome|       emp_var_rate|    cons_price_idx|     cons_conf_idx|         euribor3m|      nr_employed|    y|\n",
      "+-------+------------------+-------+--------+---------+-------+-------+-----+---------+-----+-----------+------------------+-----------------+-----------------+-------------------+--------+-------------------+------------------+------------------+------------------+-----------------+-----+\n",
      "|  count|             41188|  41188|   41188|    41188|  41188|  41188|41188|    41188|41188|      41188|             41188|            41188|            41188|              41188|   41188|              41188|             41188|             41188|             41188|            41188|41188|\n",
      "|   mean| 40.02406040594348|   null|    null|     null|   null|   null| null|     null| null|       null| 258.2850101971448|2.567592502670681|962.4754540157328|0.17296299893172767|    null|0.08188550063178392| 93.57566436828918|-40.50260027191787|3.6212908128585366|5167.035910944004| null|\n",
      "| stddev|10.421249980934057|   null|    null|     null|   null|   null| null|     null| null|       null|259.27924883646455|2.770013542902331|186.9109073447414|0.49490107983928927|    null|   1.57095974051703|0.5788400489541355| 4.628197856174595|1.7344474048512557|72.25152766825924| null|\n",
      "|    min|                17| admin.|divorced| basic.4y|     no|     no|   no| cellular|  apr|        fri|                 0|                1|                0|                  0| failure|               -3.4|            92.201|             -50.8|             0.634|           4963.6|   no|\n",
      "|    max|                98|unknown| unknown|  unknown|    yes|    yes|  yes|telephone|  sep|        wed|              4918|               56|              999|                  7| success|                1.4|            94.767|             -26.9|             5.045|           5228.1|  yes|\n",
      "+-------+------------------+-------+--------+---------+-------+-------+-----+---------+-----+-----------+------------------+-----------------+-----------------+-------------------+--------+-------------------+------------------+------------------+------------------+-----------------+-----+\n",
      "\n"
     ]
    }
   ],
   "source": [
    "# Descriptive Statistics\n",
    "df.describe().show()"
   ]
  },
  {
   "cell_type": "code",
   "execution_count": 10,
   "metadata": {},
   "outputs": [
    {
     "name": "stdout",
     "output_type": "stream",
     "text": [
      "no. of cells in column age with null values: 0\n",
      "no. of cells in column job with null values: 0\n",
      "no. of cells in column marital with null values: 0\n",
      "no. of cells in column education with null values: 0\n",
      "no. of cells in column default with null values: 0\n",
      "no. of cells in column housing with null values: 0\n",
      "no. of cells in column loan with null values: 0\n",
      "no. of cells in column contact with null values: 0\n",
      "no. of cells in column month with null values: 0\n",
      "no. of cells in column day_of_week with null values: 0\n",
      "no. of cells in column duration with null values: 0\n",
      "no. of cells in column campaign with null values: 0\n",
      "no. of cells in column pdays with null values: 0\n",
      "no. of cells in column previous with null values: 0\n",
      "no. of cells in column poutcome with null values: 0\n",
      "no. of cells in column emp_var_rate with null values: 0\n",
      "no. of cells in column cons_price_idx with null values: 0\n",
      "no. of cells in column cons_conf_idx with null values: 0\n",
      "no. of cells in column euribor3m with null values: 0\n",
      "no. of cells in column nr_employed with null values: 0\n",
      "no. of cells in column y with null values: 0\n"
     ]
    }
   ],
   "source": [
    "# Check column null value count\n",
    "for col in df.columns:\n",
    "    print(\"no. of cells in column\", col, \"with null values:\",\n",
    "          df.filter(df[col].isNull()).count())"
   ]
  },
  {
   "cell_type": "code",
   "execution_count": 11,
   "metadata": {},
   "outputs": [
    {
     "name": "stdout",
     "output_type": "stream",
     "text": [
      "+-------------+-----+\n",
      "|          job|count|\n",
      "+-------------+-----+\n",
      "|   management| 2924|\n",
      "|      retired| 1720|\n",
      "|      unknown|  330|\n",
      "|self-employed| 1421|\n",
      "|      student|  875|\n",
      "|  blue-collar| 9254|\n",
      "| entrepreneur| 1456|\n",
      "|       admin.|10422|\n",
      "|   technician| 6743|\n",
      "|     services| 3969|\n",
      "|    housemaid| 1060|\n",
      "|   unemployed| 1014|\n",
      "+-------------+-----+\n",
      "\n",
      "+--------+-----+\n",
      "| marital|count|\n",
      "+--------+-----+\n",
      "| unknown|   80|\n",
      "|divorced| 4612|\n",
      "| married|24928|\n",
      "|  single|11568|\n",
      "+--------+-----+\n",
      "\n",
      "+-------------------+-----+\n",
      "|          education|count|\n",
      "+-------------------+-----+\n",
      "|        high.school| 9515|\n",
      "|            unknown| 1731|\n",
      "|           basic.6y| 2292|\n",
      "|professional.course| 5243|\n",
      "|  university.degree|12168|\n",
      "|         illiterate|   18|\n",
      "|           basic.4y| 4176|\n",
      "|           basic.9y| 6045|\n",
      "+-------------------+-----+\n",
      "\n",
      "+-------+-----+\n",
      "|default|count|\n",
      "+-------+-----+\n",
      "|unknown| 8597|\n",
      "|     no|32588|\n",
      "|    yes|    3|\n",
      "+-------+-----+\n",
      "\n",
      "+-------+-----+\n",
      "|housing|count|\n",
      "+-------+-----+\n",
      "|unknown|  990|\n",
      "|     no|18622|\n",
      "|    yes|21576|\n",
      "+-------+-----+\n",
      "\n",
      "+-------+-----+\n",
      "|   loan|count|\n",
      "+-------+-----+\n",
      "|unknown|  990|\n",
      "|     no|33950|\n",
      "|    yes| 6248|\n",
      "+-------+-----+\n",
      "\n",
      "+---------+-----+\n",
      "|  contact|count|\n",
      "+---------+-----+\n",
      "| cellular|26144|\n",
      "|telephone|15044|\n",
      "+---------+-----+\n",
      "\n",
      "+-----+-----+\n",
      "|month|count|\n",
      "+-----+-----+\n",
      "|  jun| 5318|\n",
      "|  aug| 6178|\n",
      "|  may|13769|\n",
      "|  sep|  570|\n",
      "|  mar|  546|\n",
      "|  oct|  718|\n",
      "|  jul| 7174|\n",
      "|  nov| 4101|\n",
      "|  apr| 2632|\n",
      "|  dec|  182|\n",
      "+-----+-----+\n",
      "\n",
      "+-----------+-----+\n",
      "|day_of_week|count|\n",
      "+-----------+-----+\n",
      "|        fri| 7827|\n",
      "|        thu| 8623|\n",
      "|        tue| 8090|\n",
      "|        wed| 8134|\n",
      "|        mon| 8514|\n",
      "+-----------+-----+\n",
      "\n",
      "+-----------+-----+\n",
      "|   poutcome|count|\n",
      "+-----------+-----+\n",
      "|    success| 1373|\n",
      "|    failure| 4252|\n",
      "|nonexistent|35563|\n",
      "+-----------+-----+\n",
      "\n",
      "+---+-----+\n",
      "|  y|count|\n",
      "+---+-----+\n",
      "| no|36548|\n",
      "|yes| 4640|\n",
      "+---+-----+\n",
      "\n"
     ]
    }
   ],
   "source": [
    "# Get unique value count for multiple string columns\n",
    "string_columns = ['job','marital','education','default','housing','loan','contact','month','day_of_week','poutcome','y']\n",
    "#df.select(string_columns).groupby(string_columns).count().show()\n",
    "df.select('job').groupby('job').count().show()\n",
    "df.select('marital').groupby('marital').count().show()\n",
    "df.select('education').groupby('education').count().show()\n",
    "df.select('default').groupby('default').count().show()\n",
    "df.select('housing').groupby('housing').count().show()\n",
    "df.select('loan').groupby('loan').count().show()\n",
    "df.select('contact').groupby('contact').count().show()\n",
    "df.select('month').groupby('month').count().show()\n",
    "df.select('day_of_week').groupby('day_of_week').count().show()\n",
    "df.select('poutcome').groupby('poutcome').count().show()\n",
    "df.select('y').groupby('y').count().show()"
   ]
  },
  {
   "cell_type": "code",
   "execution_count": 12,
   "metadata": {},
   "outputs": [
    {
     "name": "stdout",
     "output_type": "stream",
     "text": [
      "+-------------+\n",
      "|          job|\n",
      "+-------------+\n",
      "|   management|\n",
      "|      retired|\n",
      "|      unknown|\n",
      "|self-employed|\n",
      "|      student|\n",
      "|  blue-collar|\n",
      "| entrepreneur|\n",
      "|       admin.|\n",
      "|   technician|\n",
      "|     services|\n",
      "|    housemaid|\n",
      "|   unemployed|\n",
      "+-------------+\n",
      "\n",
      "+--------+\n",
      "| marital|\n",
      "+--------+\n",
      "| unknown|\n",
      "|divorced|\n",
      "| married|\n",
      "|  single|\n",
      "+--------+\n",
      "\n",
      "+-------------------+\n",
      "|          education|\n",
      "+-------------------+\n",
      "|        high.school|\n",
      "|            unknown|\n",
      "|           basic.6y|\n",
      "|professional.course|\n",
      "|  university.degree|\n",
      "|         illiterate|\n",
      "|           basic.4y|\n",
      "|           basic.9y|\n",
      "+-------------------+\n",
      "\n",
      "+-------+\n",
      "|default|\n",
      "+-------+\n",
      "|unknown|\n",
      "|     no|\n",
      "|    yes|\n",
      "+-------+\n",
      "\n",
      "+-------+\n",
      "|housing|\n",
      "+-------+\n",
      "|unknown|\n",
      "|     no|\n",
      "|    yes|\n",
      "+-------+\n",
      "\n",
      "+-------+\n",
      "|   loan|\n",
      "+-------+\n",
      "|unknown|\n",
      "|     no|\n",
      "|    yes|\n",
      "+-------+\n",
      "\n",
      "+---------+\n",
      "|  contact|\n",
      "+---------+\n",
      "| cellular|\n",
      "|telephone|\n",
      "+---------+\n",
      "\n",
      "+-----+\n",
      "|month|\n",
      "+-----+\n",
      "|  jun|\n",
      "|  aug|\n",
      "|  may|\n",
      "|  sep|\n",
      "|  mar|\n",
      "|  oct|\n",
      "|  jul|\n",
      "|  nov|\n",
      "|  apr|\n",
      "|  dec|\n",
      "+-----+\n",
      "\n",
      "+-----------+\n",
      "|day_of_week|\n",
      "+-----------+\n",
      "|        fri|\n",
      "|        thu|\n",
      "|        tue|\n",
      "|        wed|\n",
      "|        mon|\n",
      "+-----------+\n",
      "\n",
      "+-----------+\n",
      "|   poutcome|\n",
      "+-----------+\n",
      "|    success|\n",
      "|    failure|\n",
      "|nonexistent|\n",
      "+-----------+\n",
      "\n",
      "+---+\n",
      "|  y|\n",
      "+---+\n",
      "| no|\n",
      "|yes|\n",
      "+---+\n",
      "\n"
     ]
    }
   ],
   "source": [
    "# Get distinct value for each string column\n",
    "df.select('job').distinct().show()\n",
    "df.select('marital').distinct().show()\n",
    "df.select('education').distinct().show()\n",
    "df.select('default').distinct().show()\n",
    "df.select('housing').distinct().show()\n",
    "df.select('loan').distinct().show()\n",
    "df.select('contact').distinct().show()\n",
    "df.select('month').distinct().show()\n",
    "df.select('day_of_week').distinct().show()\n",
    "df.select('poutcome').distinct().show()\n",
    "df.select('y').distinct().show()"
   ]
  },
  {
   "cell_type": "markdown",
   "metadata": {},
   "source": [
    "#### Transforming dataset for machine learning algorithm readable using Spark Pipeline API"
   ]
  },
  {
   "cell_type": "code",
   "execution_count": 13,
   "metadata": {},
   "outputs": [],
   "source": [
    "# Pre-processing with One-Hot Encoding\n",
    "from pyspark.ml import Pipeline\n",
    "from pyspark.ml.feature import OneHotEncoder, StringIndexer"
   ]
  },
  {
   "cell_type": "code",
   "execution_count": 14,
   "metadata": {},
   "outputs": [],
   "source": [
    "categoricalColumns = ['job','marital','education','default','housing','loan','contact','month','day_of_week','poutcome']\n",
    "stages = [] # stages in our Pipeline or transformations in dataset\n",
    "for col in categoricalColumns:\n",
    "# Category Indexing with StringIndexer similar to LabelEncoder in sklearn \n",
    "    stringIndexer = StringIndexer(inputCol=col, outputCol=col+\"_index\")\n",
    "    # Use OneHotEncoder to convert categorical variables into binary SparseVectors\n",
    "    encoder = OneHotEncoder(inputCol=col+\"_index\", outputCol=col+\"_vec\")\n",
    "# Add stages.  These are not run here, but will run all at once later on.\n",
    "    stages += [stringIndexer, encoder]"
   ]
  },
  {
   "cell_type": "code",
   "execution_count": 15,
   "metadata": {},
   "outputs": [],
   "source": [
    "# Convert label into label indices using the StringIndexer\n",
    "label_stringIdx = StringIndexer(inputCol = \"y\", outputCol = \"label\")\n",
    "stages += [label_stringIdx]"
   ]
  },
  {
   "cell_type": "code",
   "execution_count": 16,
   "metadata": {},
   "outputs": [],
   "source": [
    "# Transform all features into a vector using VectorAssembler\n",
    "from pyspark.ml.feature import VectorAssembler, StandardScaler\n",
    "featurecols=[\"age\",\"job_vec\",\"marital_vec\",\"education_vec\",\"default_vec\",\"housing_vec\",\"loan_vec\",\"contact_vec\",\\\n",
    "             \"month_vec\",\"day_of_week_vec\",\"duration\",\"campaign\",\"pdays\",\"previous\",\"poutcome_vec\",\"emp_var_rate\",\\\n",
    "             \"cons_price_idx\",\"cons_conf_idx\",\"euribor3m\",\"nr_employed\"]\n",
    "\n",
    "assembler = VectorAssembler(inputCols=featurecols, outputCol=\"features\")\n",
    "stages += [assembler]"
   ]
  },
  {
   "cell_type": "code",
   "execution_count": 17,
   "metadata": {},
   "outputs": [],
   "source": [
    "# Create a Pipeline.\n",
    "pipeline = Pipeline(stages=stages)"
   ]
  },
  {
   "cell_type": "code",
   "execution_count": 18,
   "metadata": {},
   "outputs": [],
   "source": [
    "# The data will flow in spark now and it will take some time to complete. \n",
    "pipelineModel = pipeline.fit(df)\n",
    "df = pipelineModel.transform(df)"
   ]
  },
  {
   "cell_type": "code",
   "execution_count": 19,
   "metadata": {},
   "outputs": [
    {
     "name": "stdout",
     "output_type": "stream",
     "text": [
      "+-----+--------------------+---+---------+-------+-----------+-------+-------+----+---------+-----+-----------+--------+--------+-----+--------+-----------+------------+--------------+-------------+---------+-----------+---+\n",
      "|label|            features|age|      job|marital|  education|default|housing|loan|  contact|month|day_of_week|duration|campaign|pdays|previous|   poutcome|emp_var_rate|cons_price_idx|cons_conf_idx|euribor3m|nr_employed|  y|\n",
      "+-----+--------------------+---+---------+-------+-----------+-------+-------+----+---------+-----+-----------+--------+--------+-----+--------+-----------+------------+--------------+-------------+---------+-----------+---+\n",
      "|  0.0|(53,[0,9,12,19,22...| 56|housemaid|married|   basic.4y|     no|     no|  no|telephone|  may|        mon|     261|       1|  999|       0|nonexistent|         1.1|        93.994|        -36.4|    4.857|     5191.0| no|\n",
      "|  0.0|(53,[0,4,12,16,23...| 57| services|married|high.school|unknown|     no|  no|telephone|  may|        mon|     149|       1|  999|       0|nonexistent|         1.1|        93.994|        -36.4|    4.857|     5191.0| no|\n",
      "|  0.0|(53,[0,4,12,16,22...| 37| services|married|high.school|     no|    yes|  no|telephone|  may|        mon|     226|       1|  999|       0|nonexistent|         1.1|        93.994|        -36.4|    4.857|     5191.0| no|\n",
      "+-----+--------------------+---+---------+-------+-----------+-------+-------+----+---------+-----+-----------+--------+--------+-----+--------+-----------+------------+--------------+-------------+---------+-----------+---+\n",
      "only showing top 3 rows\n",
      "\n"
     ]
    }
   ],
   "source": [
    "# Keep relevant columns \n",
    "# \"label\" column is the transformation of initial \"y\" column\n",
    "# \"features\" is the numerical representation of all the data columns of numerical+categorical. \n",
    "selectedcols = [\"label\", \"features\"] + cols\n",
    "dataset = df.select(selectedcols)\n",
    "dataset.show(3)"
   ]
  },
  {
   "cell_type": "code",
   "execution_count": 20,
   "metadata": {},
   "outputs": [
    {
     "name": "stdout",
     "output_type": "stream",
     "text": [
      "33010\n",
      "8178\n"
     ]
    }
   ],
   "source": [
    "# Randomly split dataset into training and test sets. set seed for reproducibility\n",
    "# Simialr to sklearn test_train_split\n",
    "train_data, test_data = dataset.randomSplit([0.8,0.2], seed = 100)\n",
    "print(train_data.count())\n",
    "print(test_data.count())"
   ]
  },
  {
   "cell_type": "markdown",
   "metadata": {},
   "source": [
    "#### Standardize/Scaler dataset"
   ]
  },
  {
   "cell_type": "code",
   "execution_count": 21,
   "metadata": {},
   "outputs": [
    {
     "data": {
      "text/plain": [
       "[Row(label=0.0, scaledFeatures=DenseVector([-1.4409, 1.7225, -0.5361, -0.4437, -0.328, -0.2763, -0.2091, -0.1922, -0.189, -0.1644, -0.1577, -0.1475, 0.8064, -0.6252, -0.3535, 1.5368, -0.5488, -0.411, -0.3802, -0.3377, -0.2423, -0.209, 0.5116, -0.5115, 0.9558, -0.91, 0.4597, -0.4202, 0.7567, -0.7087, 2.1833, -0.4209, -0.3847, -0.3325, -0.2612, -0.1355, -0.1184, -0.1154, 1.9501, -0.5103, -0.4972, -0.4941, -0.7712, 0.8865, 0.1957, -0.3509, 0.3989, -0.3404, 0.8407, 0.5931, -0.4758, 0.778, 0.8464])),\n",
       " Row(label=0.0, scaledFeatures=DenseVector([-1.3451, 1.7225, -0.5361, -0.4437, -0.328, -0.2763, -0.2091, -0.1922, -0.189, -0.1644, -0.1577, -0.1475, 0.8064, -0.6252, -0.3535, 1.5368, -0.5488, -0.411, -0.3802, -0.3377, -0.2423, -0.209, 0.5116, -0.5115, 0.9558, -0.91, 0.4597, -0.4202, 0.7567, -0.7087, 2.1833, -0.4209, -0.3847, -0.3325, -0.2612, -0.1355, -0.1184, -0.1154, 1.9501, -0.5103, -0.4972, -0.4941, -0.2997, -0.5667, 0.1957, -0.3509, 0.3989, -0.3404, 0.8407, 0.5931, -0.4758, 0.7751, 0.8464])),\n",
       " Row(label=0.0, scaledFeatures=DenseVector([-1.0576, 1.7225, -0.5361, -0.4437, -0.328, -0.2763, -0.2091, -0.1922, -0.189, -0.1644, -0.1577, -0.1475, 0.8064, -0.6252, -0.3535, 1.5368, -0.5488, -0.411, -0.3802, -0.3377, -0.2423, -0.209, 0.5116, -0.5115, 0.9558, -0.91, 0.4597, -0.4202, 0.7567, -0.7087, 2.1833, -0.4209, -0.3847, -0.3325, -0.2612, -0.1355, -0.1184, -0.1154, 1.9501, -0.5103, -0.4972, -0.4941, -0.806, -0.5667, 0.1957, -0.3509, 0.3989, -0.3404, 0.8407, 0.5931, -0.4758, 0.7723, 0.8464]))]"
      ]
     },
     "execution_count": 21,
     "metadata": {},
     "output_type": "execute_result"
    }
   ],
   "source": [
    "# Standardize\n",
    "scaler = StandardScaler(inputCol=\"features\", outputCol=\"scaledFeatures\",\n",
    "                        withStd=True, withMean=True)\n",
    "scalerModel = scaler.fit(train_data)\n",
    "scaledData = scalerModel.transform(train_data)\n",
    "scaledData_test = scalerModel.transform(test_data)\n",
    "scaledData.select(\"label\",\"scaledFeatures\").take(3) "
   ]
  },
  {
   "cell_type": "markdown",
   "metadata": {},
   "source": [
    "### Logistic Regression"
   ]
  },
  {
   "cell_type": "markdown",
   "metadata": {},
   "source": [
    "#### Prediction"
   ]
  },
  {
   "cell_type": "code",
   "execution_count": 22,
   "metadata": {},
   "outputs": [
    {
     "name": "stdout",
     "output_type": "stream",
     "text": [
      "root\n",
      " |-- label: double (nullable = true)\n",
      " |-- features: vector (nullable = true)\n",
      " |-- age: integer (nullable = true)\n",
      " |-- job: string (nullable = true)\n",
      " |-- marital: string (nullable = true)\n",
      " |-- education: string (nullable = true)\n",
      " |-- default: string (nullable = true)\n",
      " |-- housing: string (nullable = true)\n",
      " |-- loan: string (nullable = true)\n",
      " |-- contact: string (nullable = true)\n",
      " |-- month: string (nullable = true)\n",
      " |-- day_of_week: string (nullable = true)\n",
      " |-- duration: integer (nullable = true)\n",
      " |-- campaign: integer (nullable = true)\n",
      " |-- pdays: integer (nullable = true)\n",
      " |-- previous: integer (nullable = true)\n",
      " |-- poutcome: string (nullable = true)\n",
      " |-- emp_var_rate: double (nullable = true)\n",
      " |-- cons_price_idx: double (nullable = true)\n",
      " |-- cons_conf_idx: double (nullable = true)\n",
      " |-- euribor3m: double (nullable = true)\n",
      " |-- nr_employed: double (nullable = true)\n",
      " |-- y: string (nullable = true)\n",
      " |-- scaledFeatures: vector (nullable = true)\n",
      " |-- rawPrediction: vector (nullable = true)\n",
      " |-- probability: vector (nullable = true)\n",
      " |-- prediction: double (nullable = true)\n",
      "\n"
     ]
    }
   ],
   "source": [
    "from pyspark.ml.classification import LogisticRegression\n",
    "\n",
    "# Create initial LogisticRegression model\n",
    "lr = LogisticRegression(labelCol=\"label\", featuresCol=\"scaledFeatures\", \n",
    "                        maxIter=100, regParam=0.0001, family=\"multinomial\")\n",
    "\n",
    "# Train model with Training Data\n",
    "lrModel = lr.fit(scaledData)\n",
    "predictions = lrModel.transform(scaledData_test)\n",
    "predictions.printSchema()"
   ]
  },
  {
   "cell_type": "code",
   "execution_count": 23,
   "metadata": {},
   "outputs": [
    {
     "name": "stdout",
     "output_type": "stream",
     "text": [
      "+-----+----------+\n",
      "|label|prediction|\n",
      "+-----+----------+\n",
      "|  0.0|       0.0|\n",
      "|  0.0|       0.0|\n",
      "|  0.0|       0.0|\n",
      "|  0.0|       0.0|\n",
      "|  0.0|       1.0|\n",
      "+-----+----------+\n",
      "only showing top 5 rows\n",
      "\n"
     ]
    }
   ],
   "source": [
    "# View model's predictions and probabilities of each prediction class\n",
    "predictions.select(\"label\", \"prediction\").show(5)"
   ]
  },
  {
   "cell_type": "markdown",
   "metadata": {},
   "source": [
    "#### Evaluation"
   ]
  },
  {
   "cell_type": "code",
   "execution_count": 24,
   "metadata": {},
   "outputs": [
    {
     "name": "stdout",
     "output_type": "stream",
     "text": [
      "0.9111029591587185\n",
      "0.9111029591587185\n",
      "0.8995635176493563\n"
     ]
    }
   ],
   "source": [
    "from pyspark.ml.evaluation import MulticlassClassificationEvaluator\n",
    "evaluator = MulticlassClassificationEvaluator(\n",
    "    labelCol=\"label\", predictionCol=\"prediction\", metricName=\"accuracy\")\n",
    "accuracy = evaluator.evaluate(predictions)\n",
    "print(accuracy)\n",
    "\n",
    "evaluator = MulticlassClassificationEvaluator(\n",
    "    labelCol=\"label\", predictionCol=\"prediction\", metricName=\"weightedRecall\")\n",
    "weighted_recall = evaluator.evaluate(predictions)\n",
    "print(weighted_recall)\n",
    "\n",
    "evaluator = MulticlassClassificationEvaluator(\n",
    "    labelCol=\"label\", predictionCol=\"prediction\", metricName=\"weightedPrecision\")\n",
    "weighted_precision = evaluator.evaluate(predictions)\n",
    "print(weighted_precision)"
   ]
  },
  {
   "cell_type": "code",
   "execution_count": 25,
   "metadata": {},
   "outputs": [
    {
     "name": "stdout",
     "output_type": "stream",
     "text": [
      "+-----+----------+-----+\n",
      "|label|prediction|count|\n",
      "+-----+----------+-----+\n",
      "|  0.0|       0.0| 7085|\n",
      "|  0.0|       1.0|  187|\n",
      "|  1.0|       0.0|  540|\n",
      "|  1.0|       1.0|  366|\n",
      "+-----+----------+-----+\n",
      "\n"
     ]
    }
   ],
   "source": [
    "# Print confusion-matrix\n",
    "predictions.select('label','prediction').groupby('label','prediction').count().sort('prediction')\\\n",
    ".sort('label').show()"
   ]
  },
  {
   "cell_type": "markdown",
   "metadata": {},
   "source": [
    "### Random Forest Classification"
   ]
  },
  {
   "cell_type": "markdown",
   "metadata": {},
   "source": [
    "#### Prediction"
   ]
  },
  {
   "cell_type": "code",
   "execution_count": 26,
   "metadata": {},
   "outputs": [],
   "source": [
    "from pyspark.ml.classification import RandomForestClassifier\n",
    "\n",
    "# Create Random Forest Classification model\n",
    "rf = RandomForestClassifier(labelCol=\"label\", featuresCol=\"scaledFeatures\", \n",
    "                            numTrees=20)\n",
    "\n",
    "# Train model with Training Data\n",
    "rfModel = rf.fit(scaledData)\n",
    "predictions_rf = rfModel.transform(scaledData_test)"
   ]
  },
  {
   "cell_type": "code",
   "execution_count": 27,
   "metadata": {},
   "outputs": [
    {
     "name": "stdout",
     "output_type": "stream",
     "text": [
      "+-----+----------+\n",
      "|label|prediction|\n",
      "+-----+----------+\n",
      "|  0.0|       0.0|\n",
      "|  0.0|       0.0|\n",
      "|  0.0|       0.0|\n",
      "|  0.0|       0.0|\n",
      "|  0.0|       1.0|\n",
      "+-----+----------+\n",
      "only showing top 5 rows\n",
      "\n"
     ]
    }
   ],
   "source": [
    "# View Random Forest model's predictions and probabilities of each prediction class\n",
    "predictions.select(\"label\", \"prediction\").show(5)"
   ]
  },
  {
   "cell_type": "markdown",
   "metadata": {},
   "source": [
    "#### Evaluation"
   ]
  },
  {
   "cell_type": "code",
   "execution_count": 28,
   "metadata": {},
   "outputs": [
    {
     "name": "stdout",
     "output_type": "stream",
     "text": [
      "0.9025434091464906\n",
      "0.9025434091464906\n",
      "0.88742939779402\n"
     ]
    }
   ],
   "source": [
    "evaluator = MulticlassClassificationEvaluator(\n",
    "    labelCol=\"label\", predictionCol=\"prediction\", metricName=\"accuracy\")\n",
    "accuracy = evaluator.evaluate(predictions_rf)\n",
    "print(accuracy)\n",
    "\n",
    "evaluator = MulticlassClassificationEvaluator(\n",
    "    labelCol=\"label\", predictionCol=\"prediction\", metricName=\"weightedRecall\")\n",
    "recall = evaluator.evaluate(predictions_rf)\n",
    "print(recall)\n",
    "\n",
    "evaluator = MulticlassClassificationEvaluator(\n",
    "    labelCol=\"label\", predictionCol=\"prediction\", metricName=\"weightedPrecision\")\n",
    "precision = evaluator.evaluate(predictions_rf)\n",
    "print(precision)"
   ]
  },
  {
   "cell_type": "code",
   "execution_count": 29,
   "metadata": {},
   "outputs": [
    {
     "name": "stdout",
     "output_type": "stream",
     "text": [
      "+-----+----------+-----+\n",
      "|label|prediction|count|\n",
      "+-----+----------+-----+\n",
      "|  0.0|       0.0| 7203|\n",
      "|  0.0|       1.0|   69|\n",
      "|  1.0|       0.0|  728|\n",
      "|  1.0|       1.0|  178|\n",
      "+-----+----------+-----+\n",
      "\n"
     ]
    }
   ],
   "source": [
    "# Print confusion-matrix\n",
    "predictions_rf.select('label','prediction').groupby('label','prediction').count().sort('prediction')\\\n",
    ".sort('label').show()"
   ]
  },
  {
   "cell_type": "markdown",
   "metadata": {},
   "source": [
    "### Hyper Parameter selection"
   ]
  },
  {
   "cell_type": "code",
   "execution_count": 30,
   "metadata": {},
   "outputs": [],
   "source": [
    "# Create ParamGrid for Cross Validation\n",
    "from pyspark.ml.classification import RandomForestClassifier\n",
    "from pyspark.ml.tuning import ParamGridBuilder, CrossValidator\n",
    "\n",
    "rf = RandomForestClassifier(labelCol=\"label\", featuresCol=\"scaledFeatures\")\n",
    "\n",
    "paramGrid = (ParamGridBuilder()\\\n",
    "             .addGrid(rf.maxDepth, [2, 6])\\\n",
    "             .addGrid(rf.numTrees, [5, 20])\\\n",
    "             .build())\n",
    "\n",
    "# Create 5-fold CrossValidator\n",
    "cv = CrossValidator(estimator=rf, estimatorParamMaps=paramGrid, evaluator=evaluator, numFolds=5)\n",
    "\n",
    "cvModel = cv.fit(scaledData)"
   ]
  },
  {
   "cell_type": "code",
   "execution_count": 31,
   "metadata": {},
   "outputs": [
    {
     "data": {
      "text/plain": [
       "0.891206254828722"
      ]
     },
     "execution_count": 31,
     "metadata": {},
     "output_type": "execute_result"
    }
   ],
   "source": [
    "# Use test set here so we can measure the accuracy of our model on new data\n",
    "predictions = cvModel.transform(scaledData_test)\n",
    "evaluator.evaluate(predictions)"
   ]
  },
  {
   "cell_type": "code",
   "execution_count": 32,
   "metadata": {},
   "outputs": [],
   "source": [
    "from pyspark.ml.classification import RandomForestClassifier\n",
    "from pyspark.ml.evaluation import MulticlassClassificationEvaluator\n",
    "accuracies = []\n",
    "for nofT in range(1,11,2):\n",
    "    rf = RandomForestClassifier(labelCol=\"label\", featuresCol=\"scaledFeatures\", \n",
    "                            numTrees=nofT)\n",
    "    rfModel = rf.fit(scaledData)\n",
    "    predictions_rf = rfModel.transform(scaledData_test)\n",
    "    evaluator = MulticlassClassificationEvaluator(\n",
    "        labelCol=\"label\", predictionCol=\"prediction\", metricName=\"accuracy\")\n",
    "    accuracies.append(evaluator.evaluate(predictions_rf))"
   ]
  },
  {
   "cell_type": "code",
   "execution_count": 33,
   "metadata": {},
   "outputs": [
    {
     "data": {
      "text/plain": [
       "[<matplotlib.lines.Line2D at 0x7f58bc6550b8>]"
      ]
     },
     "execution_count": 33,
     "metadata": {},
     "output_type": "execute_result"
    },
    {
     "data": {
      "image/png": "[encoded data removed]",
      "text/plain": [
       "<Figure size 432x288 with 1 Axes>"
      ]
     },
     "metadata": {
      "needs_background": "light"
     },
     "output_type": "display_data"
    }
   ],
   "source": [
    "import matplotlib.pyplot as plt\n",
    "%matplotlib inline\n",
    "plt.plot(range(1,11,2),accuracies)"
   ]
  },
  {
   "cell_type": "code",
   "execution_count": 35,
   "metadata": {},
   "outputs": [],
   "source": [
    "spark.stop()"
   ]
  },
  {
   "cell_type": "code",
   "execution_count": null,
   "metadata": {},
   "outputs": [],
   "source": []
  }
 ],
 "metadata": {
  "kernelspec": {
   "display_name": "Python 3",
   "language": "python",
   "name": "python3"
  },
  "language_info": {
   "codemirror_mode": {
    "name": "ipython",
    "version": 3
   },
   "file_extension": ".py",
   "mimetype": "text/x-python",
   "name": "python",
   "nbconvert_exporter": "python",
   "pygments_lexer": "ipython3",
   "version": "3.6.8"
  },
  "toc": {
   "base_numbering": 1,
   "nav_menu": {},
   "number_sections": true,
   "sideBar": true,
   "skip_h1_title": false,
   "title_cell": "Table of Contents",
   "title_sidebar": "Contents",
   "toc_cell": false,
   "toc_position": {},
   "toc_section_display": true,
   "toc_window_display": false
  }
 },
 "nbformat": 4,
 "nbformat_minor": 2
}
